{
 "cells": [
  {
   "cell_type": "markdown",
   "id": "1d12d904",
   "metadata": {},
   "source": [
    "## Cargamos las librerias"
   ]
  },
  {
   "cell_type": "code",
   "execution_count": 1,
   "id": "0a7ecaae",
   "metadata": {},
   "outputs": [],
   "source": [
    "import pandas as pd\n",
    "import seaborn as sns\n",
    "import numpy as np\n",
    "import matplotlib.pyplot as plt\n",
    "from transformers import AutoTokenizer, AutoModelForSequenceClassification\n",
    "import torch\n",
    "import time"
   ]
  },
  {
   "cell_type": "markdown",
   "id": "c426384b",
   "metadata": {},
   "source": [
    "## Cargamos el dataset de tweets y vemos su informacion"
   ]
  },
  {
   "cell_type": "code",
   "execution_count": 2,
   "id": "2405b81d",
   "metadata": {},
   "outputs": [
    {
     "name": "stdout",
     "output_type": "stream",
     "text": [
      "(2649, 1)\n"
     ]
    },
    {
     "data": {
      "text/html": [
       "<div>\n",
       "<style scoped>\n",
       "    .dataframe tbody tr th:only-of-type {\n",
       "        vertical-align: middle;\n",
       "    }\n",
       "\n",
       "    .dataframe tbody tr th {\n",
       "        vertical-align: top;\n",
       "    }\n",
       "\n",
       "    .dataframe thead th {\n",
       "        text-align: right;\n",
       "    }\n",
       "</style>\n",
       "<table border=\"1\" class=\"dataframe\">\n",
       "  <thead>\n",
       "    <tr style=\"text-align: right;\">\n",
       "      <th></th>\n",
       "      <th>texto_tweet</th>\n",
       "    </tr>\n",
       "  </thead>\n",
       "  <tbody>\n",
       "    <tr>\n",
       "      <th>0</th>\n",
       "      <td>¡Atención! @ElMercurio_cl y @CajaLosAndes dest...</td>\n",
       "    </tr>\n",
       "    <tr>\n",
       "      <th>1</th>\n",
       "      <td>@CajaLosAndes el dia 9 de abril fui a  @Cinepo...</td>\n",
       "    </tr>\n",
       "    <tr>\n",
       "      <th>2</th>\n",
       "      <td>@CajaLosAndes Hola, Les envié DM para que me p...</td>\n",
       "    </tr>\n",
       "    <tr>\n",
       "      <th>3</th>\n",
       "      <td>@CajaLosAndes hola, necesito saber en que tram...</td>\n",
       "    </tr>\n",
       "    <tr>\n",
       "      <th>4</th>\n",
       "      <td>Convenio DIVBIE - Caja Los Andes\\n\\nPara el pe...</td>\n",
       "    </tr>\n",
       "  </tbody>\n",
       "</table>\n",
       "</div>"
      ],
      "text/plain": [
       "                                         texto_tweet\n",
       "0  ¡Atención! @ElMercurio_cl y @CajaLosAndes dest...\n",
       "1  @CajaLosAndes el dia 9 de abril fui a  @Cinepo...\n",
       "2  @CajaLosAndes Hola, Les envié DM para que me p...\n",
       "3  @CajaLosAndes hola, necesito saber en que tram...\n",
       "4  Convenio DIVBIE - Caja Los Andes\\n\\nPara el pe..."
      ]
     },
     "execution_count": 2,
     "metadata": {},
     "output_type": "execute_result"
    }
   ],
   "source": [
    "df_tweets = pd.read_csv(\"dataset_Caso_2.csv\")\n",
    "print(df_tweets.shape)\n",
    "df_tweets.head()"
   ]
  },
  {
   "cell_type": "code",
   "execution_count": 3,
   "id": "42c6034e",
   "metadata": {},
   "outputs": [
    {
     "data": {
      "text/plain": [
       "texto_tweet    0\n",
       "dtype: int64"
      ]
     },
     "execution_count": 3,
     "metadata": {},
     "output_type": "execute_result"
    }
   ],
   "source": [
    "df_tweets.isnull().sum()"
   ]
  },
  {
   "cell_type": "markdown",
   "id": "2ff0e1d6",
   "metadata": {},
   "source": [
    "## Cargamos el modelo pre-entrenado y el tokenizador"
   ]
  },
  {
   "cell_type": "markdown",
   "id": "28b213a7",
   "metadata": {},
   "source": [
    "### El modelo a utlizar será una versión multi lenguaje de bert, obtenido desde hugging face:\n",
    "* https://huggingface.co/nlptown/bert-base-multilingual-uncased-sentiment"
   ]
  },
  {
   "cell_type": "code",
   "execution_count": 4,
   "id": "92ef7627",
   "metadata": {},
   "outputs": [],
   "source": [
    "nombre_modelo = \"nlptown/bert-base-multilingual-uncased-sentiment\"\n",
    "tokenizer = AutoTokenizer.from_pretrained(nombre_modelo)\n",
    "modelo = AutoModelForSequenceClassification.from_pretrained(nombre_modelo)"
   ]
  },
  {
   "cell_type": "markdown",
   "id": "8df4ed77",
   "metadata": {},
   "source": [
    "## Ahora armaremos algunas funciones que nos permitan limpiar el tweet antes de obtener el sentimiento"
   ]
  },
  {
   "cell_type": "code",
   "execution_count": 35,
   "id": "d1a51332",
   "metadata": {},
   "outputs": [],
   "source": [
    "def reemplazar_saltos_de_linea(texto):\n",
    "    return texto.replace('\\n', ' ')"
   ]
  },
  {
   "cell_type": "code",
   "execution_count": 5,
   "id": "9daf4813",
   "metadata": {},
   "outputs": [],
   "source": [
    "entidades = ['@IPSChile','@MintrabChile','@GobiernodeChile','@MinDesarrollo','@previsionsocial',\n",
    "                 '@subse_ssociales','@SENAMAGOB','@IPSValparaiso','@MDSValparaiso','@ChileAtiende','@IPSChile',\n",
    "            '@RegCivil_Chile','@GobDigitalCL']\n",
    "\n",
    "def mencion_gobierno(texto):\n",
    "    for entidad in entidades:\n",
    "        if entidad.lower() in texto.lower():\n",
    "            return \"Si\"\n",
    "    return \"No\""
   ]
  },
  {
   "cell_type": "code",
   "execution_count": 31,
   "id": "92ef16c9",
   "metadata": {},
   "outputs": [],
   "source": [
    "def quitar_menciones(words):\n",
    "    palabras = []\n",
    "    for word in words:\n",
    "        if ((word.startswith('@')) & (len(word) > 1)):\n",
    "            palabra = ''\n",
    "        elif word.startswith('http'):\n",
    "            palabra = ''\n",
    "        elif word == 'rt':\n",
    "            palabra = ''\n",
    "        else:\n",
    "            palabra = word\n",
    "        palabras.append(palabra)\n",
    "        texto = ' '.join(palabras)\n",
    "    return texto"
   ]
  },
  {
   "cell_type": "code",
   "execution_count": 32,
   "id": "07aed8f5",
   "metadata": {},
   "outputs": [],
   "source": [
    "def obtener_sentimiento(df):\n",
    "    inputs = tokenizer(df, return_tensors=\"pt\", truncation=True, padding=True, max_length=512)\n",
    "    outputs = modelo(**inputs)\n",
    "    probs = torch.nn.functional.softmax(outputs.logits, dim=-1)\n",
    "    sentiment = torch.argmax(probs).item()\n",
    "    \n",
    "    # Mapeo de los resultados a sentimiento (0: muy negativo, 4: muy positivo)\n",
    "    sentiment_map = {0: 'Muy negativo', 1: 'Negativo', 2: 'Neutral', 3: 'Positivo', 4: 'Muy positivo'}\n",
    "    return sentiment_map[sentiment]"
   ]
  },
  {
   "cell_type": "code",
   "execution_count": 46,
   "id": "ebc31c04",
   "metadata": {},
   "outputs": [
    {
     "name": "stdout",
     "output_type": "stream",
     "text": [
      "--- Procesamiento del texto: 284.260427236557 seconds ---\n"
     ]
    }
   ],
   "source": [
    "# Procesamos el texto y luego obtenemos las menciones al SERNAC y el sentimiento del tweet\n",
    "start_time = time.time()\n",
    "\n",
    "df_tweets[\"texto_procesado\"] = df_tweets[\"texto_tweet\"].astype(str).str.lower()\n",
    "df_tweets[\"texto_procesado\"] = df_tweets[\"texto_procesado\"].apply(reemplazar_saltos_de_linea)\n",
    "df_tweets[\"texto_procesado\"] = df_tweets[\"texto_procesado\"].str.split(' ')\n",
    "df_tweets[\"Mencion_Gobierno\"] = df_tweets[\"texto_tweet\"].apply(mencion_gobierno)\n",
    "df_tweets[\"texto_procesado\"] = df_tweets['texto_procesado'].apply(quitar_menciones)\n",
    "df_tweets['Sentimiento'] = df_tweets['texto_procesado'].apply(obtener_sentimiento)\n",
    "\n",
    "print(\"--- Procesamiento del texto: %s seconds ---\" % (time.time() - start_time))"
   ]
  },
  {
   "cell_type": "code",
   "execution_count": 47,
   "id": "2701e58a",
   "metadata": {},
   "outputs": [
    {
     "data": {
      "text/html": [
       "<div>\n",
       "<style scoped>\n",
       "    .dataframe tbody tr th:only-of-type {\n",
       "        vertical-align: middle;\n",
       "    }\n",
       "\n",
       "    .dataframe tbody tr th {\n",
       "        vertical-align: top;\n",
       "    }\n",
       "\n",
       "    .dataframe thead th {\n",
       "        text-align: right;\n",
       "    }\n",
       "</style>\n",
       "<table border=\"1\" class=\"dataframe\">\n",
       "  <thead>\n",
       "    <tr style=\"text-align: right;\">\n",
       "      <th></th>\n",
       "      <th>texto_tweet</th>\n",
       "      <th>texto_procesado</th>\n",
       "      <th>Mencion_Gobierno</th>\n",
       "      <th>Sentimiento</th>\n",
       "    </tr>\n",
       "  </thead>\n",
       "  <tbody>\n",
       "    <tr>\n",
       "      <th>0</th>\n",
       "      <td>¡Atención! @ElMercurio_cl y @CajaLosAndes dest...</td>\n",
       "      <td>¡atención!  y  destacaron a #congresofuturo co...</td>\n",
       "      <td>No</td>\n",
       "      <td>Muy positivo</td>\n",
       "    </tr>\n",
       "    <tr>\n",
       "      <th>1</th>\n",
       "      <td>@CajaLosAndes el dia 9 de abril fui a  @Cinepo...</td>\n",
       "      <td>el dia 9 de abril fui a   y no me aceptaron e...</td>\n",
       "      <td>No</td>\n",
       "      <td>Muy negativo</td>\n",
       "    </tr>\n",
       "    <tr>\n",
       "      <th>2</th>\n",
       "      <td>@CajaLosAndes Hola, Les envié DM para que me p...</td>\n",
       "      <td>hola, les envié dm para que me puedan ayudar ...</td>\n",
       "      <td>No</td>\n",
       "      <td>Neutral</td>\n",
       "    </tr>\n",
       "    <tr>\n",
       "      <th>3</th>\n",
       "      <td>@CajaLosAndes hola, necesito saber en que tram...</td>\n",
       "      <td>hola, necesito saber en que tramo de carga fa...</td>\n",
       "      <td>No</td>\n",
       "      <td>Neutral</td>\n",
       "    </tr>\n",
       "    <tr>\n",
       "      <th>4</th>\n",
       "      <td>Convenio DIVBIE - Caja Los Andes\\n\\nPara el pe...</td>\n",
       "      <td>convenio divbie - caja los andes  para el pers...</td>\n",
       "      <td>No</td>\n",
       "      <td>Positivo</td>\n",
       "    </tr>\n",
       "    <tr>\n",
       "      <th>5</th>\n",
       "      <td>RT @IgualesChile: 🏅Fuimos reconocid@s por @ElM...</td>\n",
       "      <td>🏅fuimos reconocid@s por  y  en el especial d...</td>\n",
       "      <td>No</td>\n",
       "      <td>Muy positivo</td>\n",
       "    </tr>\n",
       "    <tr>\n",
       "      <th>6</th>\n",
       "      <td>@CajaLosAndes Buen día, les escribo porque nue...</td>\n",
       "      <td>buen día, les escribo porque nuevamente no lo...</td>\n",
       "      <td>No</td>\n",
       "      <td>Muy positivo</td>\n",
       "    </tr>\n",
       "    <tr>\n",
       "      <th>7</th>\n",
       "      <td>@CajaLosAndes por ley y cito \" D.F.L. N° 44, c...</td>\n",
       "      <td>por ley y cito \" d.f.l. n° 44, citado en fuen...</td>\n",
       "      <td>No</td>\n",
       "      <td>Muy negativo</td>\n",
       "    </tr>\n",
       "    <tr>\n",
       "      <th>8</th>\n",
       "      <td>Hola a todos!, espero que estén teniendo una b...</td>\n",
       "      <td>hola a todos!, espero que estén teniendo una b...</td>\n",
       "      <td>No</td>\n",
       "      <td>Muy positivo</td>\n",
       "    </tr>\n",
       "    <tr>\n",
       "      <th>9</th>\n",
       "      <td>@CajaLosAndes Hola, envié un DM, ¿me pueden ay...</td>\n",
       "      <td>hola, envié un dm, ¿me pueden ayudar?</td>\n",
       "      <td>No</td>\n",
       "      <td>Muy positivo</td>\n",
       "    </tr>\n",
       "    <tr>\n",
       "      <th>10</th>\n",
       "      <td>Vota por tu emprendimiento favorito en TECLA 6...</td>\n",
       "      <td>vota por tu emprendimiento favorito en tecla 6...</td>\n",
       "      <td>No</td>\n",
       "      <td>Muy positivo</td>\n",
       "    </tr>\n",
       "    <tr>\n",
       "      <th>11</th>\n",
       "      <td>@BlestSergi @CajaLosAndes Estimado @BlestSergi...</td>\n",
       "      <td>estimado  lamentamos lo que nos cuenta. por ...</td>\n",
       "      <td>No</td>\n",
       "      <td>Muy negativo</td>\n",
       "    </tr>\n",
       "    <tr>\n",
       "      <th>12</th>\n",
       "      <td>EN VIVO | Premio a la Trayectoria, presentado ...</td>\n",
       "      <td>en vivo | premio a la trayectoria, presentado ...</td>\n",
       "      <td>No</td>\n",
       "      <td>Muy positivo</td>\n",
       "    </tr>\n",
       "    <tr>\n",
       "      <th>13</th>\n",
       "      <td>Saludo protocolar entre prefecto inspector Jos...</td>\n",
       "      <td>saludo protocolar entre prefecto inspector jos...</td>\n",
       "      <td>No</td>\n",
       "      <td>Positivo</td>\n",
       "    </tr>\n",
       "    <tr>\n",
       "      <th>14</th>\n",
       "      <td>@CajaLosAndes hola disculpen estaba probando m...</td>\n",
       "      <td>hola disculpen estaba probando mi descuento p...</td>\n",
       "      <td>No</td>\n",
       "      <td>Muy negativo</td>\n",
       "    </tr>\n",
       "    <tr>\n",
       "      <th>15</th>\n",
       "      <td>@CajaLosAndes contratan personas mayores como ...</td>\n",
       "      <td>contratan personas mayores como junior u otro...</td>\n",
       "      <td>No</td>\n",
       "      <td>Muy negativo</td>\n",
       "    </tr>\n",
       "    <tr>\n",
       "      <th>16</th>\n",
       "      <td>RT @CajaLosAndes: #Aymapu, emprendedor de la c...</td>\n",
       "      <td>#aymapu, emprendedor de la comunidad #tecla,...</td>\n",
       "      <td>No</td>\n",
       "      <td>Muy positivo</td>\n",
       "    </tr>\n",
       "    <tr>\n",
       "      <th>17</th>\n",
       "      <td>RT @CampeonatoCL: 👏👏 Felicitaciones @udechilef...</td>\n",
       "      <td>👏👏 felicitaciones  🔵🔴  triunfo 2-1 en la sem...</td>\n",
       "      <td>No</td>\n",
       "      <td>Muy positivo</td>\n",
       "    </tr>\n",
       "    <tr>\n",
       "      <th>18</th>\n",
       "      <td>@CajaLosAndes que requisitos necesito para inc...</td>\n",
       "      <td>que requisitos necesito para incorporar como ...</td>\n",
       "      <td>No</td>\n",
       "      <td>Muy negativo</td>\n",
       "    </tr>\n",
       "    <tr>\n",
       "      <th>19</th>\n",
       "      <td>@CajaLosAndes necesito ayuda con el beneficio ...</td>\n",
       "      <td>necesito ayuda con el beneficio de cinehoyts....</td>\n",
       "      <td>No</td>\n",
       "      <td>Negativo</td>\n",
       "    </tr>\n",
       "  </tbody>\n",
       "</table>\n",
       "</div>"
      ],
      "text/plain": [
       "                                          texto_tweet  \\\n",
       "0   ¡Atención! @ElMercurio_cl y @CajaLosAndes dest...   \n",
       "1   @CajaLosAndes el dia 9 de abril fui a  @Cinepo...   \n",
       "2   @CajaLosAndes Hola, Les envié DM para que me p...   \n",
       "3   @CajaLosAndes hola, necesito saber en que tram...   \n",
       "4   Convenio DIVBIE - Caja Los Andes\\n\\nPara el pe...   \n",
       "5   RT @IgualesChile: 🏅Fuimos reconocid@s por @ElM...   \n",
       "6   @CajaLosAndes Buen día, les escribo porque nue...   \n",
       "7   @CajaLosAndes por ley y cito \" D.F.L. N° 44, c...   \n",
       "8   Hola a todos!, espero que estén teniendo una b...   \n",
       "9   @CajaLosAndes Hola, envié un DM, ¿me pueden ay...   \n",
       "10  Vota por tu emprendimiento favorito en TECLA 6...   \n",
       "11  @BlestSergi @CajaLosAndes Estimado @BlestSergi...   \n",
       "12  EN VIVO | Premio a la Trayectoria, presentado ...   \n",
       "13  Saludo protocolar entre prefecto inspector Jos...   \n",
       "14  @CajaLosAndes hola disculpen estaba probando m...   \n",
       "15  @CajaLosAndes contratan personas mayores como ...   \n",
       "16  RT @CajaLosAndes: #Aymapu, emprendedor de la c...   \n",
       "17  RT @CampeonatoCL: 👏👏 Felicitaciones @udechilef...   \n",
       "18  @CajaLosAndes que requisitos necesito para inc...   \n",
       "19  @CajaLosAndes necesito ayuda con el beneficio ...   \n",
       "\n",
       "                                      texto_procesado Mencion_Gobierno  \\\n",
       "0   ¡atención!  y  destacaron a #congresofuturo co...               No   \n",
       "1    el dia 9 de abril fui a   y no me aceptaron e...               No   \n",
       "2    hola, les envié dm para que me puedan ayudar ...               No   \n",
       "3    hola, necesito saber en que tramo de carga fa...               No   \n",
       "4   convenio divbie - caja los andes  para el pers...               No   \n",
       "5     🏅fuimos reconocid@s por  y  en el especial d...               No   \n",
       "6    buen día, les escribo porque nuevamente no lo...               No   \n",
       "7    por ley y cito \" d.f.l. n° 44, citado en fuen...               No   \n",
       "8   hola a todos!, espero que estén teniendo una b...               No   \n",
       "9               hola, envié un dm, ¿me pueden ayudar?               No   \n",
       "10  vota por tu emprendimiento favorito en tecla 6...               No   \n",
       "11    estimado  lamentamos lo que nos cuenta. por ...               No   \n",
       "12  en vivo | premio a la trayectoria, presentado ...               No   \n",
       "13  saludo protocolar entre prefecto inspector jos...               No   \n",
       "14   hola disculpen estaba probando mi descuento p...               No   \n",
       "15   contratan personas mayores como junior u otro...               No   \n",
       "16    #aymapu, emprendedor de la comunidad #tecla,...               No   \n",
       "17    👏👏 felicitaciones  🔵🔴  triunfo 2-1 en la sem...               No   \n",
       "18   que requisitos necesito para incorporar como ...               No   \n",
       "19   necesito ayuda con el beneficio de cinehoyts....               No   \n",
       "\n",
       "     Sentimiento  \n",
       "0   Muy positivo  \n",
       "1   Muy negativo  \n",
       "2        Neutral  \n",
       "3        Neutral  \n",
       "4       Positivo  \n",
       "5   Muy positivo  \n",
       "6   Muy positivo  \n",
       "7   Muy negativo  \n",
       "8   Muy positivo  \n",
       "9   Muy positivo  \n",
       "10  Muy positivo  \n",
       "11  Muy negativo  \n",
       "12  Muy positivo  \n",
       "13      Positivo  \n",
       "14  Muy negativo  \n",
       "15  Muy negativo  \n",
       "16  Muy positivo  \n",
       "17  Muy positivo  \n",
       "18  Muy negativo  \n",
       "19      Negativo  "
      ]
     },
     "execution_count": 47,
     "metadata": {},
     "output_type": "execute_result"
    }
   ],
   "source": [
    "df_tweets.head(20)"
   ]
  },
  {
   "cell_type": "markdown",
   "id": "f1f58ba0",
   "metadata": {},
   "source": [
    "## Ahora haremos algunos análisis respecto al sentimiento y las meciones de los usuarios"
   ]
  },
  {
   "cell_type": "code",
   "execution_count": 48,
   "id": "c9a82798",
   "metadata": {},
   "outputs": [
    {
     "data": {
      "image/png": "[encoded data removed]",
      "text/plain": [
       "<Figure size 700x500 with 1 Axes>"
      ]
     },
     "metadata": {},
     "output_type": "display_data"
    }
   ],
   "source": [
    "# Establecemos el orden de las columnas\n",
    "order = ['Muy negativo', 'Negativo', 'Neutral', 'Positivo', 'Muy positivo']\n",
    "\n",
    "# Definir colores específicos para cada categoría\n",
    "colors = ['#b00505', '#e67373', '#f7eb63', '#9be882', '#36cc04']\n",
    "\n",
    "# Crear el gráfico de histograma\n",
    "plt.figure(figsize=(7, 5))\n",
    "ax = sns.countplot(data=df_tweets, x='Sentimiento', order=order, palette=colors)\n",
    "\n",
    "# Obtener los valores de las barras\n",
    "total = len(df_tweets)  # Total de datos\n",
    "for patch in ax.patches:\n",
    "    height = patch.get_height()  # Altura de cada barra (conteo)\n",
    "    percentage = 100 * height / total  # Calcular el porcentaje\n",
    "    ax.text(patch.get_x() + patch.get_width() / 2, height, f'{percentage:.2f}%', \n",
    "            ha='center', va='bottom')  # Etiqueta con el porcentaje\n",
    "\n",
    "# Personalizar gráfico\n",
    "plt.ylabel('Conteo')\n",
    "plt.xlabel('')\n",
    "plt.title('Sentimiento de los Tweets de los usuarios')\n",
    "\n",
    "plt.show()"
   ]
  },
  {
   "cell_type": "markdown",
   "id": "c2893dcd",
   "metadata": {},
   "source": [
    "### Vemos que alrededor del 70% de los tweets corresponden a comentarios negativos sobre la empresa, mientras que un 22% de los tweets tienen una connotación positiva."
   ]
  },
  {
   "cell_type": "code",
   "execution_count": 49,
   "id": "63e57b74",
   "metadata": {},
   "outputs": [
    {
     "data": {
      "image/png": "[encoded data removed]",
      "text/plain": [
       "<Figure size 700x500 with 1 Axes>"
      ]
     },
     "metadata": {},
     "output_type": "display_data"
    }
   ],
   "source": [
    "# Crear el gráfico de histograma\n",
    "plt.figure(figsize=(7, 5))\n",
    "ax = sns.histplot(data=df_tweets, x='Mencion_Gobierno')\n",
    "\n",
    "# Obtener los valores de las barras\n",
    "total = len(df_tweets)  # Total de datos\n",
    "for patch in ax.patches:\n",
    "    height = patch.get_height()  # Altura de cada barra (conteo)\n",
    "    percentage = 100 * height / total  # Calcular el porcentaje\n",
    "    ax.text(patch.get_x() + patch.get_width() / 2, height, f'{percentage:.2f}%', \n",
    "            ha='center', va='bottom')  # Etiqueta con el porcentaje\n",
    "\n",
    "# Personalizar gráfico\n",
    "plt.xlabel('')\n",
    "plt.ylabel('Conteo')\n",
    "plt.title('Menciones al Gobierno')\n",
    "\n",
    "plt.show()"
   ]
  },
  {
   "cell_type": "markdown",
   "id": "3be446df",
   "metadata": {},
   "source": [
    "### Por otro lado, los usuarios mencionan a entidades del gobierno un 4,15% de las veces"
   ]
  },
  {
   "cell_type": "markdown",
   "id": "7c38d5f1",
   "metadata": {},
   "source": [
    "# Guardamos el archivo con los resultados"
   ]
  },
  {
   "cell_type": "code",
   "execution_count": 50,
   "id": "22e1652b",
   "metadata": {},
   "outputs": [],
   "source": [
    "df_tweets.to_csv('data_caso_2_con_sentimiento.csv', index=False)"
   ]
  }
 ],
 "metadata": {
  "kernelspec": {
   "display_name": "Python 3 (ipykernel)",
   "language": "python",
   "name": "python3"
  },
  "language_info": {
   "codemirror_mode": {
    "name": "ipython",
    "version": 3
   },
   "file_extension": ".py",
   "mimetype": "text/x-python",
   "name": "python",
   "nbconvert_exporter": "python",
   "pygments_lexer": "ipython3",
   "version": "3.10.9"
  }
 },
 "nbformat": 4,
 "nbformat_minor": 5
}
