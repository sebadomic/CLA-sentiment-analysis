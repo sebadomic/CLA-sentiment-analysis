{
 "cells": [
  {
   "cell_type": "markdown",
   "id": "1d12d904",
   "metadata": {},
   "source": [
    "## Cargamos las librerias"
   ]
  },
  {
   "cell_type": "code",
   "execution_count": 1,
   "id": "0a7ecaae",
   "metadata": {},
   "outputs": [],
   "source": [
    "import pandas as pd\n",
    "import seaborn as sns\n",
    "import numpy as np\n",
    "import matplotlib.pyplot as plt\n",
    "from transformers import AutoTokenizer, AutoModelForSequenceClassification\n",
    "import torch\n",
    "import time"
   ]
  },
  {
   "cell_type": "markdown",
   "id": "c426384b",
   "metadata": {},
   "source": [
    "## Cargamos el dataset de tweets y vemos su informacion"
   ]
  },
  {
   "cell_type": "code",
   "execution_count": 2,
   "id": "2405b81d",
   "metadata": {},
   "outputs": [
    {
     "name": "stdout",
     "output_type": "stream",
     "text": [
      "(1583, 6)\n"
     ]
    },
    {
     "data": {
      "text/html": [
       "<div>\n",
       "<style scoped>\n",
       "    .dataframe tbody tr th:only-of-type {\n",
       "        vertical-align: middle;\n",
       "    }\n",
       "\n",
       "    .dataframe tbody tr th {\n",
       "        vertical-align: top;\n",
       "    }\n",
       "\n",
       "    .dataframe thead th {\n",
       "        text-align: right;\n",
       "    }\n",
       "</style>\n",
       "<table border=\"1\" class=\"dataframe\">\n",
       "  <thead>\n",
       "    <tr style=\"text-align: right;\">\n",
       "      <th></th>\n",
       "      <th>date</th>\n",
       "      <th>id</th>\n",
       "      <th>content</th>\n",
       "      <th>username</th>\n",
       "      <th>like_count</th>\n",
       "      <th>retweet_count</th>\n",
       "    </tr>\n",
       "  </thead>\n",
       "  <tbody>\n",
       "    <tr>\n",
       "      <th>0</th>\n",
       "      <td>2023-02-11 22:55:17+00:00</td>\n",
       "      <td>1624542616707529984</td>\n",
       "      <td>@RipleyChile gente de ripley. Tengo un severo ...</td>\n",
       "      <td>Alexfuentesve</td>\n",
       "      <td>1.0</td>\n",
       "      <td>0.0</td>\n",
       "    </tr>\n",
       "    <tr>\n",
       "      <th>1</th>\n",
       "      <td>2023-02-11 22:43:20+00:00</td>\n",
       "      <td>1624539610083719936</td>\n",
       "      <td>@RipleyChile 12 horas esperando una respuesta ...</td>\n",
       "      <td>jcfunky</td>\n",
       "      <td>0.0</td>\n",
       "      <td>0.0</td>\n",
       "    </tr>\n",
       "    <tr>\n",
       "      <th>2</th>\n",
       "      <td>2023-02-11 22:03:43+00:00</td>\n",
       "      <td>1624529642391579904</td>\n",
       "      <td>@RipleyChile Gracias</td>\n",
       "      <td>claudiopavlik1</td>\n",
       "      <td>0.0</td>\n",
       "      <td>0.0</td>\n",
       "    </tr>\n",
       "    <tr>\n",
       "      <th>3</th>\n",
       "      <td>2023-02-11 21:46:58+00:00</td>\n",
       "      <td>1624525425341870080</td>\n",
       "      <td>@RipleyChile Por favor entreguen el producto q...</td>\n",
       "      <td>Marshmalun</td>\n",
       "      <td>0.0</td>\n",
       "      <td>0.0</td>\n",
       "    </tr>\n",
       "    <tr>\n",
       "      <th>4</th>\n",
       "      <td>2023-02-11 21:26:03+00:00</td>\n",
       "      <td>1624520161364410112</td>\n",
       "      <td>@Claumaysavage @RipleyChile sip</td>\n",
       "      <td>CespedesForever</td>\n",
       "      <td>0.0</td>\n",
       "      <td>0.0</td>\n",
       "    </tr>\n",
       "  </tbody>\n",
       "</table>\n",
       "</div>"
      ],
      "text/plain": [
       "                        date                   id  \\\n",
       "0  2023-02-11 22:55:17+00:00  1624542616707529984   \n",
       "1  2023-02-11 22:43:20+00:00  1624539610083719936   \n",
       "2  2023-02-11 22:03:43+00:00  1624529642391579904   \n",
       "3  2023-02-11 21:46:58+00:00  1624525425341870080   \n",
       "4  2023-02-11 21:26:03+00:00  1624520161364410112   \n",
       "\n",
       "                                             content         username  \\\n",
       "0  @RipleyChile gente de ripley. Tengo un severo ...    Alexfuentesve   \n",
       "1  @RipleyChile 12 horas esperando una respuesta ...          jcfunky   \n",
       "2                               @RipleyChile Gracias   claudiopavlik1   \n",
       "3  @RipleyChile Por favor entreguen el producto q...       Marshmalun   \n",
       "4                   @Claumaysavage @RipleyChile sip   CespedesForever   \n",
       "\n",
       "   like_count  retweet_count  \n",
       "0         1.0            0.0  \n",
       "1         0.0            0.0  \n",
       "2         0.0            0.0  \n",
       "3         0.0            0.0  \n",
       "4         0.0            0.0  "
      ]
     },
     "execution_count": 2,
     "metadata": {},
     "output_type": "execute_result"
    }
   ],
   "source": [
    "df_tweets = pd.read_csv(\"Tweets.csv\", sep=\"|\")\n",
    "print(df_tweets.shape)\n",
    "df_tweets.head()"
   ]
  },
  {
   "cell_type": "code",
   "execution_count": 3,
   "id": "2bc91db2",
   "metadata": {},
   "outputs": [
    {
     "data": {
      "text/plain": [
       "RipleyChile        220\n",
       "pamemartel          53\n",
       "SERNAC              14\n",
       "JorgeAl55035464     10\n",
       "ayala_su             9\n",
       "latoxica2910         8\n",
       "Jovanoti77           8\n",
       "Nacharizard          8\n",
       "Maj0Majo             8\n",
       "AgueroCLE            8\n",
       "CespedesForever      7\n",
       "VeroCanales          7\n",
       "amolosgatitoos       7\n",
       "cristobal_cbh        6\n",
       "jonnymusci           6\n",
       "Lagabriela1991       6\n",
       "Alexfuentesve        6\n",
       "alvarooock           6\n",
       "kmilaespinoza        6\n",
       "dsovino              6\n",
       "Name: username, dtype: int64"
      ]
     },
     "execution_count": 3,
     "metadata": {},
     "output_type": "execute_result"
    }
   ],
   "source": [
    "df_tweets['username'].value_counts()[0:20]"
   ]
  },
  {
   "cell_type": "code",
   "execution_count": 4,
   "id": "42c6034e",
   "metadata": {},
   "outputs": [
    {
     "data": {
      "text/plain": [
       "date             0\n",
       "id               0\n",
       "content          0\n",
       "username         0\n",
       "like_count       0\n",
       "retweet_count    0\n",
       "dtype: int64"
      ]
     },
     "execution_count": 4,
     "metadata": {},
     "output_type": "execute_result"
    }
   ],
   "source": [
    "df_tweets.isnull().sum()"
   ]
  },
  {
   "cell_type": "markdown",
   "id": "1695c3c3",
   "metadata": {},
   "source": [
    "## Viendo que no hay valores nulos, establecemos si el tweet viene desde un usuario o desde la empresa"
   ]
  },
  {
   "cell_type": "code",
   "execution_count": 5,
   "id": "8eb8575e",
   "metadata": {},
   "outputs": [
    {
     "data": {
      "text/html": [
       "<div>\n",
       "<style scoped>\n",
       "    .dataframe tbody tr th:only-of-type {\n",
       "        vertical-align: middle;\n",
       "    }\n",
       "\n",
       "    .dataframe tbody tr th {\n",
       "        vertical-align: top;\n",
       "    }\n",
       "\n",
       "    .dataframe thead th {\n",
       "        text-align: right;\n",
       "    }\n",
       "</style>\n",
       "<table border=\"1\" class=\"dataframe\">\n",
       "  <thead>\n",
       "    <tr style=\"text-align: right;\">\n",
       "      <th></th>\n",
       "      <th>date</th>\n",
       "      <th>id</th>\n",
       "      <th>content</th>\n",
       "      <th>username</th>\n",
       "      <th>like_count</th>\n",
       "      <th>retweet_count</th>\n",
       "      <th>origen</th>\n",
       "    </tr>\n",
       "  </thead>\n",
       "  <tbody>\n",
       "    <tr>\n",
       "      <th>0</th>\n",
       "      <td>2023-02-11 22:55:17+00:00</td>\n",
       "      <td>1624542616707529984</td>\n",
       "      <td>@RipleyChile gente de ripley. Tengo un severo ...</td>\n",
       "      <td>Alexfuentesve</td>\n",
       "      <td>1.0</td>\n",
       "      <td>0.0</td>\n",
       "      <td>Usuario</td>\n",
       "    </tr>\n",
       "    <tr>\n",
       "      <th>1</th>\n",
       "      <td>2023-02-11 22:43:20+00:00</td>\n",
       "      <td>1624539610083719936</td>\n",
       "      <td>@RipleyChile 12 horas esperando una respuesta ...</td>\n",
       "      <td>jcfunky</td>\n",
       "      <td>0.0</td>\n",
       "      <td>0.0</td>\n",
       "      <td>Usuario</td>\n",
       "    </tr>\n",
       "    <tr>\n",
       "      <th>2</th>\n",
       "      <td>2023-02-11 22:03:43+00:00</td>\n",
       "      <td>1624529642391579904</td>\n",
       "      <td>@RipleyChile Gracias</td>\n",
       "      <td>claudiopavlik1</td>\n",
       "      <td>0.0</td>\n",
       "      <td>0.0</td>\n",
       "      <td>Usuario</td>\n",
       "    </tr>\n",
       "    <tr>\n",
       "      <th>3</th>\n",
       "      <td>2023-02-11 21:46:58+00:00</td>\n",
       "      <td>1624525425341870080</td>\n",
       "      <td>@RipleyChile Por favor entreguen el producto q...</td>\n",
       "      <td>Marshmalun</td>\n",
       "      <td>0.0</td>\n",
       "      <td>0.0</td>\n",
       "      <td>Usuario</td>\n",
       "    </tr>\n",
       "    <tr>\n",
       "      <th>4</th>\n",
       "      <td>2023-02-11 21:26:03+00:00</td>\n",
       "      <td>1624520161364410112</td>\n",
       "      <td>@Claumaysavage @RipleyChile sip</td>\n",
       "      <td>CespedesForever</td>\n",
       "      <td>0.0</td>\n",
       "      <td>0.0</td>\n",
       "      <td>Usuario</td>\n",
       "    </tr>\n",
       "  </tbody>\n",
       "</table>\n",
       "</div>"
      ],
      "text/plain": [
       "                        date                   id  \\\n",
       "0  2023-02-11 22:55:17+00:00  1624542616707529984   \n",
       "1  2023-02-11 22:43:20+00:00  1624539610083719936   \n",
       "2  2023-02-11 22:03:43+00:00  1624529642391579904   \n",
       "3  2023-02-11 21:46:58+00:00  1624525425341870080   \n",
       "4  2023-02-11 21:26:03+00:00  1624520161364410112   \n",
       "\n",
       "                                             content         username  \\\n",
       "0  @RipleyChile gente de ripley. Tengo un severo ...    Alexfuentesve   \n",
       "1  @RipleyChile 12 horas esperando una respuesta ...          jcfunky   \n",
       "2                               @RipleyChile Gracias   claudiopavlik1   \n",
       "3  @RipleyChile Por favor entreguen el producto q...       Marshmalun   \n",
       "4                   @Claumaysavage @RipleyChile sip   CespedesForever   \n",
       "\n",
       "   like_count  retweet_count   origen  \n",
       "0         1.0            0.0  Usuario  \n",
       "1         0.0            0.0  Usuario  \n",
       "2         0.0            0.0  Usuario  \n",
       "3         0.0            0.0  Usuario  \n",
       "4         0.0            0.0  Usuario  "
      ]
     },
     "execution_count": 5,
     "metadata": {},
     "output_type": "execute_result"
    }
   ],
   "source": [
    "df_tweets.loc[df_tweets['username'] == 'RipleyChile', 'origen'] = 'Empresa'\n",
    "df_tweets.loc[df_tweets['username'] == 'SERNAC', 'origen'] = 'SERNAC'\n",
    "df_tweets[\"origen\"].fillna(\"Usuario\", inplace= True)\n",
    "df_tweets.head()"
   ]
  },
  {
   "cell_type": "code",
   "execution_count": 6,
   "id": "09282c2a",
   "metadata": {},
   "outputs": [
    {
     "data": {
      "image/png": "[encoded data removed]",
      "text/plain": [
       "<Figure size 700x500 with 1 Axes>"
      ]
     },
     "metadata": {},
     "output_type": "display_data"
    }
   ],
   "source": [
    "# Crear el gráfico de histograma\n",
    "plt.figure(figsize=(7, 5))\n",
    "ax = sns.histplot(data=df_tweets, x='origen')\n",
    "\n",
    "# Obtener los valores de las barras\n",
    "total = len(df_tweets)  # Total de datos\n",
    "for patch in ax.patches:\n",
    "    height = patch.get_height()  # Altura de cada barra (conteo)\n",
    "    percentage = 100 * height / total  # Calcular el porcentaje\n",
    "    ax.text(patch.get_x() + patch.get_width() / 2, height, f'{percentage:.2f}%', \n",
    "            ha='center', va='bottom')  # Etiqueta con el porcentaje\n",
    "\n",
    "# Personalizar gráfico\n",
    "plt.xlabel('Origen')\n",
    "plt.ylabel('Conteo')\n",
    "plt.title('Distribución de Tweets')\n",
    "\n",
    "plt.show()"
   ]
  },
  {
   "cell_type": "markdown",
   "id": "18356179",
   "metadata": {},
   "source": [
    "* Vemos que un 85% de los tweets son de parte de usuarios o clientes."
   ]
  },
  {
   "cell_type": "markdown",
   "id": "2566d7c7",
   "metadata": {},
   "source": [
    "## Transformamos la fecha"
   ]
  },
  {
   "cell_type": "code",
   "execution_count": 7,
   "id": "09b4e450",
   "metadata": {},
   "outputs": [
    {
     "data": {
      "text/html": [
       "<div>\n",
       "<style scoped>\n",
       "    .dataframe tbody tr th:only-of-type {\n",
       "        vertical-align: middle;\n",
       "    }\n",
       "\n",
       "    .dataframe tbody tr th {\n",
       "        vertical-align: top;\n",
       "    }\n",
       "\n",
       "    .dataframe thead th {\n",
       "        text-align: right;\n",
       "    }\n",
       "</style>\n",
       "<table border=\"1\" class=\"dataframe\">\n",
       "  <thead>\n",
       "    <tr style=\"text-align: right;\">\n",
       "      <th></th>\n",
       "      <th>id</th>\n",
       "      <th>content</th>\n",
       "      <th>username</th>\n",
       "      <th>like_count</th>\n",
       "      <th>retweet_count</th>\n",
       "      <th>origen</th>\n",
       "      <th>fecha</th>\n",
       "    </tr>\n",
       "  </thead>\n",
       "  <tbody>\n",
       "    <tr>\n",
       "      <th>0</th>\n",
       "      <td>1624542616707529984</td>\n",
       "      <td>@RipleyChile gente de ripley. Tengo un severo ...</td>\n",
       "      <td>Alexfuentesve</td>\n",
       "      <td>1.0</td>\n",
       "      <td>0.0</td>\n",
       "      <td>Usuario</td>\n",
       "      <td>2023-02-11</td>\n",
       "    </tr>\n",
       "    <tr>\n",
       "      <th>1</th>\n",
       "      <td>1624539610083719936</td>\n",
       "      <td>@RipleyChile 12 horas esperando una respuesta ...</td>\n",
       "      <td>jcfunky</td>\n",
       "      <td>0.0</td>\n",
       "      <td>0.0</td>\n",
       "      <td>Usuario</td>\n",
       "      <td>2023-02-11</td>\n",
       "    </tr>\n",
       "    <tr>\n",
       "      <th>2</th>\n",
       "      <td>1624529642391579904</td>\n",
       "      <td>@RipleyChile Gracias</td>\n",
       "      <td>claudiopavlik1</td>\n",
       "      <td>0.0</td>\n",
       "      <td>0.0</td>\n",
       "      <td>Usuario</td>\n",
       "      <td>2023-02-11</td>\n",
       "    </tr>\n",
       "    <tr>\n",
       "      <th>3</th>\n",
       "      <td>1624525425341870080</td>\n",
       "      <td>@RipleyChile Por favor entreguen el producto q...</td>\n",
       "      <td>Marshmalun</td>\n",
       "      <td>0.0</td>\n",
       "      <td>0.0</td>\n",
       "      <td>Usuario</td>\n",
       "      <td>2023-02-11</td>\n",
       "    </tr>\n",
       "    <tr>\n",
       "      <th>4</th>\n",
       "      <td>1624520161364410112</td>\n",
       "      <td>@Claumaysavage @RipleyChile sip</td>\n",
       "      <td>CespedesForever</td>\n",
       "      <td>0.0</td>\n",
       "      <td>0.0</td>\n",
       "      <td>Usuario</td>\n",
       "      <td>2023-02-11</td>\n",
       "    </tr>\n",
       "  </tbody>\n",
       "</table>\n",
       "</div>"
      ],
      "text/plain": [
       "                    id                                            content  \\\n",
       "0  1624542616707529984  @RipleyChile gente de ripley. Tengo un severo ...   \n",
       "1  1624539610083719936  @RipleyChile 12 horas esperando una respuesta ...   \n",
       "2  1624529642391579904                               @RipleyChile Gracias   \n",
       "3  1624525425341870080  @RipleyChile Por favor entreguen el producto q...   \n",
       "4  1624520161364410112                   @Claumaysavage @RipleyChile sip    \n",
       "\n",
       "          username  like_count  retweet_count   origen      fecha  \n",
       "0    Alexfuentesve         1.0            0.0  Usuario 2023-02-11  \n",
       "1          jcfunky         0.0            0.0  Usuario 2023-02-11  \n",
       "2   claudiopavlik1         0.0            0.0  Usuario 2023-02-11  \n",
       "3       Marshmalun         0.0            0.0  Usuario 2023-02-11  \n",
       "4  CespedesForever         0.0            0.0  Usuario 2023-02-11  "
      ]
     },
     "execution_count": 7,
     "metadata": {},
     "output_type": "execute_result"
    }
   ],
   "source": [
    "df_tweets[\"fecha\"] = df_tweets[\"date\"].astype(str)\n",
    "df_tweets[\"fecha\"] = pd.to_datetime(df_tweets[\"fecha\"].str[:10], format=\"%Y-%m-%d\")\n",
    "df_tweets.drop(columns='date', inplace= True)\n",
    "df_tweets.head()"
   ]
  },
  {
   "cell_type": "markdown",
   "id": "2ff0e1d6",
   "metadata": {},
   "source": [
    "## Cargamos el modelo pre-entrenado y el tokenizador"
   ]
  },
  {
   "cell_type": "markdown",
   "id": "28b213a7",
   "metadata": {},
   "source": [
    "### El modelo a utlizar será una versión multi lenguaje de bert, obtenido desde hugging face:\n",
    "* https://huggingface.co/nlptown/bert-base-multilingual-uncased-sentiment"
   ]
  },
  {
   "cell_type": "code",
   "execution_count": 8,
   "id": "92ef7627",
   "metadata": {},
   "outputs": [],
   "source": [
    "nombre_modelo = \"nlptown/bert-base-multilingual-uncased-sentiment\"\n",
    "tokenizer = AutoTokenizer.from_pretrained(nombre_modelo)\n",
    "modelo = AutoModelForSequenceClassification.from_pretrained(nombre_modelo)"
   ]
  },
  {
   "cell_type": "markdown",
   "id": "8df4ed77",
   "metadata": {},
   "source": [
    "## Ahora armaremos algunas funciones que nos permitan limpiar el tweet antes de obtener el sentimiento"
   ]
  },
  {
   "cell_type": "code",
   "execution_count": 9,
   "id": "9daf4813",
   "metadata": {},
   "outputs": [],
   "source": [
    "def mencion_sernac(words):\n",
    "    sernac = \"No\"\n",
    "    for word in words:\n",
    "        if word.lower().find(\"sernac\") != -1:\n",
    "            sernac = \"Si\"\n",
    "    return sernac"
   ]
  },
  {
   "cell_type": "code",
   "execution_count": 10,
   "id": "92ef16c9",
   "metadata": {},
   "outputs": [],
   "source": [
    "def quitar_menciones(words):\n",
    "    palabras = []\n",
    "    for word in words:\n",
    "        if ((word.startswith('@')) & (len(word) > 1)):\n",
    "            palabra = ''\n",
    "        elif word.startswith('http'):\n",
    "            palabra = ''\n",
    "        else:\n",
    "            palabra = word\n",
    "        palabras.append(palabra)\n",
    "        texto = ' '.join(palabras)\n",
    "    return texto"
   ]
  },
  {
   "cell_type": "code",
   "execution_count": 11,
   "id": "07aed8f5",
   "metadata": {},
   "outputs": [],
   "source": [
    "def obtener_sentimiento(df):\n",
    "    inputs = tokenizer(df, return_tensors=\"pt\", truncation=True, padding=True, max_length=512)\n",
    "    outputs = modelo(**inputs)\n",
    "    probs = torch.nn.functional.softmax(outputs.logits, dim=-1)\n",
    "    sentiment = torch.argmax(probs).item()\n",
    "    \n",
    "    # Mapeo de los resultados a sentimiento (0: muy negativo, 4: muy positivo)\n",
    "    sentiment_map = {0: 'Muy negativo', 1: 'Negativo', 2: 'Neutral', 3: 'Positivo', 4: 'Muy positivo'}\n",
    "    return sentiment_map[sentiment]"
   ]
  },
  {
   "cell_type": "code",
   "execution_count": 12,
   "id": "ebc31c04",
   "metadata": {},
   "outputs": [
    {
     "name": "stdout",
     "output_type": "stream",
     "text": [
      "--- Procesamiento del texto: 204.72779297828674 seconds ---\n"
     ]
    }
   ],
   "source": [
    "# Procesamos el texto y luego obtenemos las menciones al SERNAC y el sentimiento del tweet\n",
    "start_time = time.time()\n",
    "\n",
    "df_tweets[\"texto_procesado\"] = df_tweets[\"content\"].astype(str).str.lower()\n",
    "df_tweets[\"texto_procesado\"] = df_tweets[\"texto_procesado\"].str.split(' ')\n",
    "\n",
    "df_tweets[\"Sernac\"] = df_tweets[\"texto_procesado\"].apply(mencion_sernac)\n",
    "df_tweets[\"texto_procesado\"] = df_tweets['texto_procesado'].apply(quitar_menciones)\n",
    "df_tweets['Sentimiento'] = df_tweets['texto_procesado'].apply(obtener_sentimiento)\n",
    "\n",
    "print(\"--- Procesamiento del texto: %s seconds ---\" % (time.time() - start_time))"
   ]
  },
  {
   "cell_type": "code",
   "execution_count": 13,
   "id": "2701e58a",
   "metadata": {},
   "outputs": [
    {
     "data": {
      "text/html": [
       "<div>\n",
       "<style scoped>\n",
       "    .dataframe tbody tr th:only-of-type {\n",
       "        vertical-align: middle;\n",
       "    }\n",
       "\n",
       "    .dataframe tbody tr th {\n",
       "        vertical-align: top;\n",
       "    }\n",
       "\n",
       "    .dataframe thead th {\n",
       "        text-align: right;\n",
       "    }\n",
       "</style>\n",
       "<table border=\"1\" class=\"dataframe\">\n",
       "  <thead>\n",
       "    <tr style=\"text-align: right;\">\n",
       "      <th></th>\n",
       "      <th>id</th>\n",
       "      <th>content</th>\n",
       "      <th>username</th>\n",
       "      <th>like_count</th>\n",
       "      <th>retweet_count</th>\n",
       "      <th>origen</th>\n",
       "      <th>fecha</th>\n",
       "      <th>texto_procesado</th>\n",
       "      <th>Sernac</th>\n",
       "      <th>Sentimiento</th>\n",
       "    </tr>\n",
       "  </thead>\n",
       "  <tbody>\n",
       "    <tr>\n",
       "      <th>0</th>\n",
       "      <td>1624542616707529984</td>\n",
       "      <td>@RipleyChile gente de ripley. Tengo un severo ...</td>\n",
       "      <td>Alexfuentesve</td>\n",
       "      <td>1.0</td>\n",
       "      <td>0.0</td>\n",
       "      <td>Usuario</td>\n",
       "      <td>2023-02-11</td>\n",
       "      <td>gente de ripley. tengo un severo reclamo con ...</td>\n",
       "      <td>Si</td>\n",
       "      <td>Muy negativo</td>\n",
       "    </tr>\n",
       "    <tr>\n",
       "      <th>1</th>\n",
       "      <td>1624539610083719936</td>\n",
       "      <td>@RipleyChile 12 horas esperando una respuesta ...</td>\n",
       "      <td>jcfunky</td>\n",
       "      <td>0.0</td>\n",
       "      <td>0.0</td>\n",
       "      <td>Usuario</td>\n",
       "      <td>2023-02-11</td>\n",
       "      <td>12 horas esperando una respuesta del status d...</td>\n",
       "      <td>Si</td>\n",
       "      <td>Muy negativo</td>\n",
       "    </tr>\n",
       "    <tr>\n",
       "      <th>2</th>\n",
       "      <td>1624529642391579904</td>\n",
       "      <td>@RipleyChile Gracias</td>\n",
       "      <td>claudiopavlik1</td>\n",
       "      <td>0.0</td>\n",
       "      <td>0.0</td>\n",
       "      <td>Usuario</td>\n",
       "      <td>2023-02-11</td>\n",
       "      <td>gracias</td>\n",
       "      <td>No</td>\n",
       "      <td>Muy positivo</td>\n",
       "    </tr>\n",
       "    <tr>\n",
       "      <th>3</th>\n",
       "      <td>1624525425341870080</td>\n",
       "      <td>@RipleyChile Por favor entreguen el producto q...</td>\n",
       "      <td>Marshmalun</td>\n",
       "      <td>0.0</td>\n",
       "      <td>0.0</td>\n",
       "      <td>Usuario</td>\n",
       "      <td>2023-02-11</td>\n",
       "      <td>por favor entreguen el producto que compre di...</td>\n",
       "      <td>No</td>\n",
       "      <td>Muy negativo</td>\n",
       "    </tr>\n",
       "    <tr>\n",
       "      <th>4</th>\n",
       "      <td>1624520161364410112</td>\n",
       "      <td>@Claumaysavage @RipleyChile sip</td>\n",
       "      <td>CespedesForever</td>\n",
       "      <td>0.0</td>\n",
       "      <td>0.0</td>\n",
       "      <td>Usuario</td>\n",
       "      <td>2023-02-11</td>\n",
       "      <td>sip</td>\n",
       "      <td>No</td>\n",
       "      <td>Neutral</td>\n",
       "    </tr>\n",
       "  </tbody>\n",
       "</table>\n",
       "</div>"
      ],
      "text/plain": [
       "                    id                                            content  \\\n",
       "0  1624542616707529984  @RipleyChile gente de ripley. Tengo un severo ...   \n",
       "1  1624539610083719936  @RipleyChile 12 horas esperando una respuesta ...   \n",
       "2  1624529642391579904                               @RipleyChile Gracias   \n",
       "3  1624525425341870080  @RipleyChile Por favor entreguen el producto q...   \n",
       "4  1624520161364410112                   @Claumaysavage @RipleyChile sip    \n",
       "\n",
       "          username  like_count  retweet_count   origen      fecha  \\\n",
       "0    Alexfuentesve         1.0            0.0  Usuario 2023-02-11   \n",
       "1          jcfunky         0.0            0.0  Usuario 2023-02-11   \n",
       "2   claudiopavlik1         0.0            0.0  Usuario 2023-02-11   \n",
       "3       Marshmalun         0.0            0.0  Usuario 2023-02-11   \n",
       "4  CespedesForever         0.0            0.0  Usuario 2023-02-11   \n",
       "\n",
       "                                     texto_procesado Sernac   Sentimiento  \n",
       "0   gente de ripley. tengo un severo reclamo con ...     Si  Muy negativo  \n",
       "1   12 horas esperando una respuesta del status d...     Si  Muy negativo  \n",
       "2                                            gracias     No  Muy positivo  \n",
       "3   por favor entreguen el producto que compre di...     No  Muy negativo  \n",
       "4                                               sip      No       Neutral  "
      ]
     },
     "execution_count": 13,
     "metadata": {},
     "output_type": "execute_result"
    }
   ],
   "source": [
    "df_tweets.head()"
   ]
  },
  {
   "cell_type": "markdown",
   "id": "f1f58ba0",
   "metadata": {},
   "source": [
    "## Ahora haremos algunos análisis respecto al sentimiento y las meciones a Sernac de los usuarios (Se excluyen Empresa y SERNAC)"
   ]
  },
  {
   "cell_type": "code",
   "execution_count": 15,
   "id": "c9a82798",
   "metadata": {},
   "outputs": [
    {
     "data": {
      "image/png": "[encoded data removed]",
      "text/plain": [
       "<Figure size 700x500 with 1 Axes>"
      ]
     },
     "metadata": {},
     "output_type": "display_data"
    }
   ],
   "source": [
    "# Establecemos el orden de las columnas\n",
    "order = ['Muy negativo', 'Negativo', 'Neutral', 'Positivo', 'Muy positivo']\n",
    "\n",
    "# Definir colores específicos para cada categoría\n",
    "colors = ['#b00505', '#e67373', '#f7eb63', '#9be882', '#36cc04']\n",
    "\n",
    "# Crear el gráfico de histograma\n",
    "plt.figure(figsize=(7, 5))\n",
    "ax = sns.countplot(data=df_tweets[df_tweets['origen'] == 'Usuario'], x='Sentimiento', order=order, palette=colors)\n",
    "\n",
    "# Obtener los valores de las barras\n",
    "total = len(df_tweets[df_tweets['origen'] == 'Usuario'])  # Total de datos\n",
    "for patch in ax.patches:\n",
    "    height = patch.get_height()  # Altura de cada barra (conteo)\n",
    "    percentage = 100 * height / total  # Calcular el porcentaje\n",
    "    ax.text(patch.get_x() + patch.get_width() / 2, height, f'{percentage:.2f}%', \n",
    "            ha='center', va='bottom')  # Etiqueta con el porcentaje\n",
    "\n",
    "# Personalizar gráfico\n",
    "plt.ylabel('Conteo')\n",
    "plt.xlabel('')\n",
    "plt.title('Sentimiento de los Tweets de los usuarios')\n",
    "\n",
    "plt.show()"
   ]
  },
  {
   "cell_type": "markdown",
   "id": "c2893dcd",
   "metadata": {},
   "source": [
    "### Vemos que alrededor del 80% de los tweets corresponden a comentarios negativos sobre la empresa"
   ]
  },
  {
   "cell_type": "code",
   "execution_count": 16,
   "id": "63e57b74",
   "metadata": {},
   "outputs": [
    {
     "data": {
      "image/png": "[encoded data removed]",
      "text/plain": [
       "<Figure size 700x500 with 1 Axes>"
      ]
     },
     "metadata": {},
     "output_type": "display_data"
    }
   ],
   "source": [
    "# Crear el gráfico de histograma\n",
    "plt.figure(figsize=(7, 5))\n",
    "ax = sns.histplot(data=df_tweets[df_tweets['origen'] == 'Usuario'], x='Sernac')\n",
    "\n",
    "# Obtener los valores de las barras\n",
    "total = len(df_tweets[df_tweets['origen'] == 'Usuario'])  # Total de datos\n",
    "for patch in ax.patches:\n",
    "    height = patch.get_height()  # Altura de cada barra (conteo)\n",
    "    percentage = 100 * height / total  # Calcular el porcentaje\n",
    "    ax.text(patch.get_x() + patch.get_width() / 2, height, f'{percentage:.2f}%', \n",
    "            ha='center', va='bottom')  # Etiqueta con el porcentaje\n",
    "\n",
    "# Personalizar gráfico\n",
    "plt.xlabel('')\n",
    "plt.ylabel('Conteo')\n",
    "plt.title('Menciones al SERNAC')\n",
    "\n",
    "plt.show()"
   ]
  },
  {
   "cell_type": "markdown",
   "id": "3be446df",
   "metadata": {},
   "source": [
    "### Por otro lado, los usuarios mencionan al sernac un 9% de las veces"
   ]
  },
  {
   "cell_type": "markdown",
   "id": "7c38d5f1",
   "metadata": {},
   "source": [
    "# Guardamos el archivo con los resultados"
   ]
  },
  {
   "cell_type": "code",
   "execution_count": 75,
   "id": "22e1652b",
   "metadata": {},
   "outputs": [],
   "source": [
    "df_tweets.to_csv('Tweets_con_sentimiento.csv', index=False)"
   ]
  }
 ],
 "metadata": {
  "kernelspec": {
   "display_name": "Python 3 (ipykernel)",
   "language": "python",
   "name": "python3"
  },
  "language_info": {
   "codemirror_mode": {
    "name": "ipython",
    "version": 3
   },
   "file_extension": ".py",
   "mimetype": "text/x-python",
   "name": "python",
   "nbconvert_exporter": "python",
   "pygments_lexer": "ipython3",
   "version": "3.10.9"
  }
 },
 "nbformat": 4,
 "nbformat_minor": 5
}
